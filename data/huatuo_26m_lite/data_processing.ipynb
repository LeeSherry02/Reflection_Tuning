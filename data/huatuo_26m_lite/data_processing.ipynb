{
 "cells": [
  {
   "cell_type": "markdown",
   "metadata": {},
   "source": [
    "# 1、将格式转变为instruction和output"
   ]
  },
  {
   "cell_type": "code",
   "execution_count": 1,
   "metadata": {},
   "outputs": [
    {
     "name": "stdout",
     "output_type": "stream",
     "text": [
      "Successfully renamed fields and saved to '/remote-home/xiaoyili/2025-Medical/Reflection_Tuning/data/huatuo_26m_lite/huatuo_26m_lite_score_5._alpaca.json'.\n"
     ]
    }
   ],
   "source": [
    "import json\n",
    "\n",
    "def rename_fields(input_file, output_file):\n",
    "    \"\"\"\n",
    "    将JSON文件中的字段`question`重命名为`instruction`，`answer`重命名为`output`，并将结果保存到一个新文件中。\n",
    "\n",
    "    Args:\n",
    "        input_file (str): 输入JSON文件的路径。\n",
    "        output_file (str): 输出JSON文件的路径。\n",
    "    \"\"\"\n",
    "    try:\n",
    "        with open(input_file, 'r', encoding='utf-8') as f_in:\n",
    "            data = json.load(f_in)\n",
    "\n",
    "        # 遍历每个条目并重命名字段\n",
    "        for entry in data:\n",
    "            if 'question' in entry:\n",
    "                entry['instruction'] = entry.pop('question')\n",
    "            if 'answer' in entry:\n",
    "                entry['output'] = entry.pop('answer')\n",
    "\n",
    "        # 将修改后的数据保存到输出文件\n",
    "        with open(output_file, 'w', encoding='utf-8') as f_out:\n",
    "            json.dump(data, f_out, indent=4, ensure_ascii=False)\n",
    "\n",
    "        print(f\"Successfully renamed fields and saved to '{output_file}'.\")\n",
    "\n",
    "    except FileNotFoundError:\n",
    "        print(f\"Error: Input file '{input_file}' not found.\")\n",
    "    except json.JSONDecodeError:\n",
    "        print(f\"Error: Invalid JSON format in '{input_file}'.\")\n",
    "    except Exception as e:\n",
    "        print(f\"An unexpected error occurred: {e}\")\n",
    "\n",
    "\n",
    "input_file = '/remote-home/xiaoyili/2025-Medical/Reflection_Tuning/data/huatuo_26m_lite/huatuo_26m_lite_score_5.json'  # 替换为你的输入JSON文件路径\n",
    "output_file = '/remote-home/xiaoyili/2025-Medical/Reflection_Tuning/data/huatuo_26m_lite/huatuo_26m_lite_score_5_alpaca.json'  # 替换为你的输出JSON文件路径\n",
    "\n",
    "rename_fields(input_file, output_file)"
   ]
  },
  {
   "cell_type": "markdown",
   "metadata": {},
   "source": [
    "# 2、提取指定条数"
   ]
  },
  {
   "cell_type": "code",
   "execution_count": 3,
   "metadata": {},
   "outputs": [
    {
     "name": "stdout",
     "output_type": "stream",
     "text": [
      "Successfully extracted 100 entries from '/remote-home/xiaoyili/2025-Medical/Reflection_Tuning/data/huatuo_26m_lite/huatuo_26m_lite_score_5_alpaca.json' and saved them to '/remote-home/xiaoyili/2025-Medical/Reflection_Tuning/data/huatuo_26m_lite/huatuo_26m_lite_score_5_alpaca_100.json'.\n"
     ]
    }
   ],
   "source": [
    "import json\n",
    "\n",
    "def extract_and_save(input_file, output_file, num_to_extract):\n",
    "    \"\"\"\n",
    "    从 JSON 文件中提取指定数量的条目，并将它们保存到另一个 JSON 文件。\n",
    "\n",
    "    Args:\n",
    "        input_file (str): 输入 JSON 文件的路径。\n",
    "        output_file (str): 输出 JSON 文件的路径。\n",
    "        num_to_extract (int): 要提取的条目数量。\n",
    "    \"\"\"\n",
    "\n",
    "    try:\n",
    "        with open(input_file, 'r', encoding='utf-8') as f_in:\n",
    "            data = json.load(f_in)\n",
    "\n",
    "        # 确保数据是一个列表\n",
    "        if not isinstance(data, list):\n",
    "            print(f\"Error: Input file '{input_file}' does not contain a JSON list.\")\n",
    "            return\n",
    "\n",
    "        # 提取指定数量的条目\n",
    "        extracted_data = data[:num_to_extract]\n",
    "\n",
    "        # 保存提取的数据到输出文件\n",
    "        with open(output_file, 'w', encoding='utf-8') as f_out:\n",
    "            json.dump(extracted_data, f_out, indent=4, ensure_ascii=False)  # 使用 indent=4 格式化输出，ensure_ascii=False 支持中文\n",
    "\n",
    "        print(f\"Successfully extracted {num_to_extract} entries from '{input_file}' and saved them to '{output_file}'.\")\n",
    "\n",
    "    except FileNotFoundError:\n",
    "        print(f\"Error: Input file '{input_file}' not found.\")\n",
    "    except json.JSONDecodeError:\n",
    "        print(f\"Error: Invalid JSON format in '{input_file}'.\")\n",
    "    except Exception as e:\n",
    "        print(f\"An unexpected error occurred: {e}\")\n",
    "\n",
    "num_to_extract = 100  # 替换为你想要提取的条目数量\n",
    "input_file = '/remote-home/xiaoyili/2025-Medical/Reflection_Tuning/data/huatuo_26m_lite/huatuo_26m_lite_score_5_alpaca.json'  # 替换为你的输入 JSON 文件名\n",
    "output_file = '/remote-home/xiaoyili/2025-Medical/Reflection_Tuning/data/huatuo_26m_lite/huatuo_26m_lite_score_5_alpaca_{}.json'.format(num_to_extract)  # 替换为你的输出 JSON 文件名\n",
    "\n",
    "extract_and_save(input_file, output_file, num_to_extract)"
   ]
  }
 ],
 "metadata": {
  "kernelspec": {
   "display_name": "LLaVA",
   "language": "python",
   "name": "python3"
  },
  "language_info": {
   "codemirror_mode": {
    "name": "ipython",
    "version": 3
   },
   "file_extension": ".py",
   "mimetype": "text/x-python",
   "name": "python",
   "nbconvert_exporter": "python",
   "pygments_lexer": "ipython3",
   "version": "3.8.19"
  }
 },
 "nbformat": 4,
 "nbformat_minor": 2
}
